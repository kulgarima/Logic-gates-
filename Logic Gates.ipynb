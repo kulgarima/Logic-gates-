{
 "cells": [
  {
   "cell_type": "code",
   "execution_count": 5,
   "metadata": {},
   "outputs": [],
   "source": [
    "import numpy as np"          # linear algebra
   ]
  },
  {
   "cell_type": "code",
   "execution_count": 21,
   "metadata": {},
   "outputs": [],
   "source": [
    "def And(x1,x2):\n",
    "    x = np.array([1,x1,x2])\n",
    "    w = np.array([-1.5,1,1])\n",
    "    y = np.sum(w*x)\n",
    "    \n",
    "    if y<= 0:\n",
    "        return 0\n",
    "    else:\n",
    "        return 1"
   ]
  },
  {
   "cell_type": "code",
   "execution_count": 22,
   "metadata": {},
   "outputs": [
    {
     "name": "stdout",
     "output_type": "stream",
     "text": [
      "And\n",
      "(0, 0)-> 0\n",
      "(1, 0)-> 0\n",
      "(0, 1)-> 0\n",
      "(1, 1)-> 1\n"
     ]
    }
   ],
   "source": [
    "if __name__ == '__main__':\n",
    "    input = [(0,0),(1,0),(0,1),(1,1)]\n",
    "\n",
    "    print(\"And\")\n",
    "    for x in input:\n",
    "        y = And(x[0], x[1])\n",
    "        print(str(x) + \"-> \" + str(y))\n"
   ]
  },
  {
   "cell_type": "code",
   "execution_count": 65,
   "metadata": {},
   "outputs": [],
   "source": [
    "def Or(x1,x2):\n",
    "    x = np.array([1,x1,x2])\n",
    "    w = np.array([0.5,-1,-1])\n",
    "    y = np.sum(w*x)\n",
    "    \n",
    "    if y <= 0:\n",
    "        return 0\n",
    "    else:\n",
    "        return 1"
   ]
  },
  {
   "cell_type": "code",
   "execution_count": 66,
   "metadata": {},
   "outputs": [
    {
     "name": "stdout",
     "output_type": "stream",
     "text": [
      "Or\n",
      "(0, 0)->1\n",
      "(1, 0)->0\n",
      "(0, 1)->0\n",
      "(1, 1)->0\n"
     ]
    }
   ],
   "source": [
    "if __name__ == '__main__':\n",
    "    input = [(0,0),(1,0),(0,1),(1,1)]\n",
    "    \n",
    "    print(\"Or\")\n",
    "    for x in input:\n",
    "        y = Or(x[0], x[1])\n",
    "        print(str(x) + \"->\" + str(y))\n",
    "        a"
   ]
  },
  {
   "cell_type": "code",
   "execution_count": 102,
   "metadata": {},
   "outputs": [],
   "source": [
    "def Nand(x1,x2):\n",
    "    x = np.array([1,x1,x2])\n",
    "    w = np.array([3,-2,-2])\n",
    "    y = np.sum(w*x)\n",
    "    \n",
    "    if y<= 0:\n",
    "        return 0\n",
    "    else:\n",
    "        return 1"
   ]
  },
  {
   "cell_type": "code",
   "execution_count": 105,
   "metadata": {},
   "outputs": [
    {
     "name": "stdout",
     "output_type": "stream",
     "text": [
      "Nand\n",
      "(0, 0)->1\n",
      "(1, 0)->0\n",
      "(0, 1)->0\n",
      "(1, 1)->0\n",
      "[0.  0.5 0.5 0. ]\n"
     ]
    }
   ],
   "source": [
    "if __name__ == '__main__':\n",
    "    input = [(0,0),(1,0),(0,1),(1,1)]\n",
    "    \n",
    "    print(\"Nand\")\n",
    "    l=[]\n",
    "    Y=np.array([1,1,1,0])\n",
    "    for x in input:\n",
    "        y = Or(x[0], x[1])\n",
    "        l.append(y)\n",
    "        print(str(x) + \"->\" + str(y))\n",
    "    yDash=np.array(l)\n",
    "    j=0.5*(np.square(np.subtract(Y,yDash)))\n",
    "    print (j)\n",
    "        "
   ]
  },
  {
   "cell_type": "code",
   "execution_count": null,
   "metadata": {},
   "outputs": [],
   "source": []
  }
 ],
 "metadata": {
  "kernelspec": {
   "display_name": "Python 3",
   "language": "python",
   "name": "python3"
  },
  "language_info": {
   "codemirror_mode": {
    "name": "ipython",
    "version": 3
   },
   "file_extension": ".py",
   "mimetype": "text/x-python",
   "name": "python",
   "nbconvert_exporter": "python",
   "pygments_lexer": "ipython3",
   "version": "3.6.5"
  }
 },
 "nbformat": 4,
 "nbformat_minor": 2
}
